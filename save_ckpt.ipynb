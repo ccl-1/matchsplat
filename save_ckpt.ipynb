{
 "cells": [
  {
   "cell_type": "code",
   "execution_count": 2,
   "metadata": {},
   "outputs": [
    {
     "name": "stdout",
     "output_type": "stream",
     "text": [
      "dict_keys(['epoch', 'global_step', 'pytorch-lightning_version', 'state_dict', 'loops'])\n",
      "dict_keys(['epoch', 'global_step', 'pytorch-lightning_version', 'state_dict', 'loops', 'callbacks', 'optimizer_states', 'lr_schedulers'])\n"
     ]
    }
   ],
   "source": [
    "import torch\n",
    "\n",
    "re10k = torch.load('checkpoints/re10k.ckpt')             # 45M\n",
    "ours = torch.load('checkpoints/epoch_256-step_10k.ckpt') # 2G\n",
    "\n",
    "print(re10k.keys())\n",
    "print(ours.keys())"
   ]
  },
  {
   "cell_type": "code",
   "execution_count": 3,
   "metadata": {},
   "outputs": [],
   "source": [
    "ours_small = dict((k, v)for k, v in ours.items() if k in re10k.keys()) # 705M\n",
    "torch.save(ours_small, 'epoch_256-step_10k_small.ckpt') \n",
    "\n",
    "\n",
    "# Does FPN have so many parameters ????"
   ]
  }
 ],
 "metadata": {
  "kernelspec": {
   "display_name": "mvsplat",
   "language": "python",
   "name": "python3"
  },
  "language_info": {
   "codemirror_mode": {
    "name": "ipython",
    "version": 3
   },
   "file_extension": ".py",
   "mimetype": "text/x-python",
   "name": "python",
   "nbconvert_exporter": "python",
   "pygments_lexer": "ipython3",
   "version": "3.10.14"
  }
 },
 "nbformat": 4,
 "nbformat_minor": 2
}
